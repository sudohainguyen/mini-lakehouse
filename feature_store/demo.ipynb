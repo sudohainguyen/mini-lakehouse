{
 "cells": [
  {
   "cell_type": "code",
   "execution_count": 1,
   "metadata": {},
   "outputs": [],
   "source": [
    "import os\n",
    "os.environ[\"TRINO_USER\"] = \"admin\"\n",
    "\n",
    "from feast import FeatureStore"
   ]
  },
  {
   "cell_type": "code",
   "execution_count": 2,
   "metadata": {},
   "outputs": [
    {
     "name": "stdout",
     "output_type": "stream",
     "text": [
      "[num_trip-Int64, avg_duration_mins-Float64, std_duration_mins-Float64, mode_subscriber_type-String]\n"
     ]
    }
   ],
   "source": [
    "store = FeatureStore(repo_path=\".\")\n",
    "\n",
    "station_feature = store.list_feature_views()[0]\n",
    "print(station_feature.features)"
   ]
  },
  {
   "cell_type": "code",
   "execution_count": 5,
   "metadata": {},
   "outputs": [],
   "source": [
    "features = store.get_historical_features(\n",
    "    entity_df=\"SELECT * FROM iceberg.feast.entity\",\n",
    "    features=[\n",
    "        \"station_feat_30d:num_trip\",\n",
    "        \"station_feat_30d:avg_duration_mins\",\n",
    "        \"station_feat_30d:std_duration_mins\",\n",
    "        \"station_feat_30d:mode_subscriber_type\",\n",
    "    ],\n",
    ").to_df()"
   ]
  },
  {
   "cell_type": "code",
   "execution_count": 6,
   "metadata": {},
   "outputs": [
    {
     "data": {
      "text/html": [
       "<div>\n",
       "<style scoped>\n",
       "    .dataframe tbody tr th:only-of-type {\n",
       "        vertical-align: middle;\n",
       "    }\n",
       "\n",
       "    .dataframe tbody tr th {\n",
       "        vertical-align: top;\n",
       "    }\n",
       "\n",
       "    .dataframe thead th {\n",
       "        text-align: right;\n",
       "    }\n",
       "</style>\n",
       "<table border=\"1\" class=\"dataframe\">\n",
       "  <thead>\n",
       "    <tr style=\"text-align: right;\">\n",
       "      <th></th>\n",
       "      <th>start_station_id</th>\n",
       "      <th>event_timestamp</th>\n",
       "      <th>num_trip</th>\n",
       "      <th>avg_duration_mins</th>\n",
       "      <th>std_duration_mins</th>\n",
       "      <th>mode_subscriber_type</th>\n",
       "    </tr>\n",
       "  </thead>\n",
       "  <tbody>\n",
       "    <tr>\n",
       "      <th>0</th>\n",
       "      <td>2501</td>\n",
       "      <td>2023-03-25 13:15:00</td>\n",
       "      <td>269</td>\n",
       "      <td>22.724907</td>\n",
       "      <td>36.928412</td>\n",
       "      <td>Local31</td>\n",
       "    </tr>\n",
       "    <tr>\n",
       "      <th>1</th>\n",
       "      <td>7125</td>\n",
       "      <td>2023-03-25 16:20:00</td>\n",
       "      <td>668</td>\n",
       "      <td>14.961078</td>\n",
       "      <td>40.678964</td>\n",
       "      <td>Student Membership</td>\n",
       "    </tr>\n",
       "    <tr>\n",
       "      <th>2</th>\n",
       "      <td>2542</td>\n",
       "      <td>2023-03-25 14:45:00</td>\n",
       "      <td>332</td>\n",
       "      <td>44.240964</td>\n",
       "      <td>181.481939</td>\n",
       "      <td>Local31</td>\n",
       "    </tr>\n",
       "    <tr>\n",
       "      <th>3</th>\n",
       "      <td>2503</td>\n",
       "      <td>2023-03-25 10:00:00</td>\n",
       "      <td>121</td>\n",
       "      <td>38.776860</td>\n",
       "      <td>126.896972</td>\n",
       "      <td>Explorer</td>\n",
       "    </tr>\n",
       "    <tr>\n",
       "      <th>4</th>\n",
       "      <td>4061</td>\n",
       "      <td>2023-03-25 11:30:00</td>\n",
       "      <td>444</td>\n",
       "      <td>40.405405</td>\n",
       "      <td>69.204102</td>\n",
       "      <td>Pay-as-you-ride</td>\n",
       "    </tr>\n",
       "  </tbody>\n",
       "</table>\n",
       "</div>"
      ],
      "text/plain": [
       "   start_station_id     event_timestamp  num_trip  avg_duration_mins  \\\n",
       "0              2501 2023-03-25 13:15:00       269          22.724907   \n",
       "1              7125 2023-03-25 16:20:00       668          14.961078   \n",
       "2              2542 2023-03-25 14:45:00       332          44.240964   \n",
       "3              2503 2023-03-25 10:00:00       121          38.776860   \n",
       "4              4061 2023-03-25 11:30:00       444          40.405405   \n",
       "\n",
       "   std_duration_mins mode_subscriber_type  \n",
       "0          36.928412              Local31  \n",
       "1          40.678964   Student Membership  \n",
       "2         181.481939              Local31  \n",
       "3         126.896972             Explorer  \n",
       "4          69.204102      Pay-as-you-ride  "
      ]
     },
     "execution_count": 6,
     "metadata": {},
     "output_type": "execute_result"
    }
   ],
   "source": [
    "features.head()"
   ]
  }
 ],
 "metadata": {
  "kernelspec": {
   "display_name": "temp",
   "language": "python",
   "name": "python3"
  },
  "language_info": {
   "codemirror_mode": {
    "name": "ipython",
    "version": 3
   },
   "file_extension": ".py",
   "mimetype": "text/x-python",
   "name": "python",
   "nbconvert_exporter": "python",
   "pygments_lexer": "ipython3",
   "version": "3.10.11"
  },
  "orig_nbformat": 4
 },
 "nbformat": 4,
 "nbformat_minor": 2
}
